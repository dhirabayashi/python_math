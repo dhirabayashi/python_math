{
 "cells": [
  {
   "cell_type": "code",
   "execution_count": 1,
   "id": "ade499f5",
   "metadata": {},
   "outputs": [],
   "source": [
    "import math\n",
    "\n",
    "def dist_p2p(x1, y1, x2, y2):\n",
    "    return math.sqrt((x2 - x1)**2 + (y2 - y1)**2)"
   ]
  },
  {
   "cell_type": "code",
   "execution_count": 2,
   "id": "a4ab7a97",
   "metadata": {},
   "outputs": [
    {
     "data": {
      "text/plain": [
       "10.0"
      ]
     },
     "execution_count": 2,
     "metadata": {},
     "output_type": "execute_result"
    }
   ],
   "source": [
    "d = dist_p2p(-1, -1, 5, 7)\n",
    "d"
   ]
  },
  {
   "cell_type": "code",
   "execution_count": 3,
   "id": "d117ba08",
   "metadata": {},
   "outputs": [
    {
     "data": {
      "text/plain": [
       "10.0"
      ]
     },
     "execution_count": 3,
     "metadata": {},
     "output_type": "execute_result"
    }
   ],
   "source": [
    "def dist_p2p(p1, p2):\n",
    "    return math.sqrt((p2[0] - p1[0])**2 + (p2[1] - p1[1])**2)\n",
    "d = dist_p2p((-1, -1), (5, 7))\n",
    "d"
   ]
  },
  {
   "cell_type": "code",
   "execution_count": 4,
   "id": "08197908",
   "metadata": {},
   "outputs": [
    {
     "name": "stderr",
     "output_type": "stream",
     "text": [
      "/Users/daiki/opt/anaconda3/lib/python3.9/site-packages/IPython/lib/latextools.py:126: MatplotlibDeprecationWarning: \n",
      "The to_png function was deprecated in Matplotlib 3.4 and will be removed two minor releases later. Use mathtext.math_to_image instead.\n",
      "  mt.to_png(f, s, fontsize=12, dpi=dpi, color=color)\n",
      "/Users/daiki/opt/anaconda3/lib/python3.9/site-packages/IPython/lib/latextools.py:126: MatplotlibDeprecationWarning: \n",
      "The to_rgba function was deprecated in Matplotlib 3.4 and will be removed two minor releases later. Use mathtext.math_to_image instead.\n",
      "  mt.to_png(f, s, fontsize=12, dpi=dpi, color=color)\n",
      "/Users/daiki/opt/anaconda3/lib/python3.9/site-packages/IPython/lib/latextools.py:126: MatplotlibDeprecationWarning: \n",
      "The to_mask function was deprecated in Matplotlib 3.4 and will be removed two minor releases later. Use mathtext.math_to_image instead.\n",
      "  mt.to_png(f, s, fontsize=12, dpi=dpi, color=color)\n",
      "/Users/daiki/opt/anaconda3/lib/python3.9/site-packages/IPython/lib/latextools.py:126: MatplotlibDeprecationWarning: \n",
      "The MathtextBackendBitmap class was deprecated in Matplotlib 3.4 and will be removed two minor releases later. Use mathtext.math_to_image instead.\n",
      "  mt.to_png(f, s, fontsize=12, dpi=dpi, color=color)\n"
     ]
    },
    {
     "data": {
      "image/png": "[encoded data removed]",
      "text/latex": [
       "$\\displaystyle \\left\\{ x : 2.0, \\  y : 1.0\\right\\}$"
      ],
      "text/plain": [
       "{x: 2.0, y: 1.0}"
      ]
     },
     "execution_count": 4,
     "metadata": {},
     "output_type": "execute_result"
    }
   ],
   "source": [
    "import sympy as sp\n",
    "sp.init_printing()\n",
    "\n",
    "x, y = sp.symbols('x, y')\n",
    "expr1 = sp.Eq(y, -2*x+5)\n",
    "expr2 = sp.Eq(y, 1/2*x)\n",
    "\n",
    "p = sp.solve([expr1, expr2])\n",
    "p"
   ]
  },
  {
   "cell_type": "code",
   "execution_count": 5,
   "id": "cb0639dc",
   "metadata": {},
   "outputs": [
    {
     "data": {
      "image/png": "[encoded data removed]",
      "text/latex": [
       "$\\displaystyle 2.23606797749979$"
      ],
      "text/plain": [
       "2.23606797749979"
      ]
     },
     "execution_count": 5,
     "metadata": {},
     "output_type": "execute_result"
    }
   ],
   "source": [
    "d = dist_p2p((0, 0), (p[x], p[y]))\n",
    "d"
   ]
  },
  {
   "cell_type": "code",
   "execution_count": 6,
   "id": "12b919ac",
   "metadata": {},
   "outputs": [
    {
     "data": {
      "image/png": "[encoded data removed]",
      "text/latex": [
       "$\\displaystyle 7.5 - 1.5 x$"
      ],
      "text/plain": [
       "7.5 - 1.5⋅x"
      ]
     },
     "metadata": {},
     "output_type": "display_data"
    },
    {
     "data": {
      "image/png": "[encoded data removed]",
      "text/latex": [
       "$\\displaystyle \\left\\{ x : 3.0, \\  y : 3.0\\right\\}$"
      ],
      "text/plain": [
       "{x: 3.0, y: 3.0}"
      ]
     },
     "metadata": {},
     "output_type": "display_data"
    },
    {
     "data": {
      "image/png": "[encoded data removed]",
      "text/latex": [
       "$\\displaystyle 3.60555127546399$"
      ],
      "text/plain": [
       "3.605551275463989"
      ]
     },
     "execution_count": 6,
     "metadata": {},
     "output_type": "execute_result"
    }
   ],
   "source": [
    "# 垂線の式\n",
    "x = sp.Symbol('x')\n",
    "ex = -3/2*(x-1)+6\n",
    "display(ex)\n",
    "\n",
    "# 交点の座標\n",
    "y = sp.Symbol('y')\n",
    "expr1 = sp.Eq(y, 2/3*x+1)\n",
    "expr2 = sp.Eq(y, ex)\n",
    "p = sp.solve([expr1, expr2])\n",
    "display(p)\n",
    "\n",
    "# 点と直線の距離\n",
    "d = dist_p2p((1, 6), (p[x], p[y]))\n",
    "d"
   ]
  },
  {
   "cell_type": "code",
   "execution_count": 7,
   "id": "7a98fc77",
   "metadata": {},
   "outputs": [
    {
     "data": {
      "image/png": "[encoded data removed]",
      "text/latex": [
       "$\\displaystyle 3.60555127546399$"
      ],
      "text/plain": [
       "3.605551275463989"
      ]
     },
     "execution_count": 7,
     "metadata": {},
     "output_type": "execute_result"
    }
   ],
   "source": [
    "def dist_p2l(p, a, b, c):\n",
    "    return math.fabs(a*p[0]+b*p[1]+c) / math.sqrt(a**2+b**2)\n",
    "\n",
    "d = dist_p2l((1, 6), 2/3, -1, 1)\n",
    "d"
   ]
  },
  {
   "cell_type": "code",
   "execution_count": 8,
   "id": "fa2f9464",
   "metadata": {},
   "outputs": [
    {
     "name": "stdout",
     "output_type": "stream",
     "text": [
      "8.54400374531753\n"
     ]
    },
    {
     "data": {
      "image/png": "[encoded data removed]",
      "text/latex": [
       "$\\displaystyle \\frac{8 x}{3} - \\frac{20}{3}$"
      ],
      "text/plain": [
       "8⋅x   20\n",
       "─── - ──\n",
       " 3    3 "
      ]
     },
     "metadata": {},
     "output_type": "display_data"
    },
    {
     "name": "stdout",
     "output_type": "stream",
     "text": [
      "7.139509978963964\n",
      "30.499999999999996\n"
     ]
    }
   ],
   "source": [
    "a, b = sp.symbols('a, b')\n",
    "x = sp.symbols('x')\n",
    "\n",
    "# 底辺の長さ\n",
    "l = dist_p2p((1, -4), (4, 4))\n",
    "print(l)\n",
    "\n",
    "# 底辺の直線の式（傾きと切片）\n",
    "ex1 = sp.Eq(-4, a*1+b)\n",
    "ex2 = sp.Eq(4, a*4+b)\n",
    "ans = sp.solve([ex1, ex2])\n",
    "display(ans[a]*x+ans[b])\n",
    "\n",
    "# 高さ\n",
    "h = dist_p2l((-4, 3), ans[a], -1, ans[b])\n",
    "print(h)\n",
    "\n",
    "# 面積\n",
    "s = 1/2*l*h\n",
    "print(s)"
   ]
  },
  {
   "cell_type": "code",
   "execution_count": 9,
   "id": "dd2cec38",
   "metadata": {},
   "outputs": [],
   "source": [
    "a, b, c = sp.symbols('a, b, c')\n",
    "x = sp.Symbol('x')"
   ]
  },
  {
   "cell_type": "code",
   "execution_count": 10,
   "id": "4d02e235",
   "metadata": {},
   "outputs": [
    {
     "data": {
      "image/png": "[encoded data removed]",
      "text/latex": [
       "$\\displaystyle - \\frac{a c}{a^{2} + b^{2}}$"
      ],
      "text/plain": [
       " -a⋅c  \n",
       "───────\n",
       " 2    2\n",
       "a  + b "
      ]
     },
     "metadata": {},
     "output_type": "display_data"
    }
   ],
   "source": [
    "px = sp.solve(a*x+b*(b/a*x)+c, x)\n",
    "display(px[0])"
   ]
  },
  {
   "cell_type": "code",
   "execution_count": 11,
   "id": "fd3c7969",
   "metadata": {},
   "outputs": [
    {
     "data": {
      "image/png": "[encoded data removed]",
      "text/latex": [
       "$\\displaystyle - \\frac{b c}{a^{2} + b^{2}}$"
      ],
      "text/plain": [
       " -b⋅c  \n",
       "───────\n",
       " 2    2\n",
       "a  + b "
      ]
     },
     "metadata": {},
     "output_type": "display_data"
    }
   ],
   "source": [
    "py = b/a*px[0]\n",
    "display(py)"
   ]
  },
  {
   "cell_type": "code",
   "execution_count": 12,
   "id": "f6ddc0d7",
   "metadata": {},
   "outputs": [
    {
     "data": {
      "image/png": "[encoded data removed]",
      "text/latex": [
       "$\\displaystyle \\sqrt{\\frac{a^{2} c^{2}}{\\left(a^{2} + b^{2}\\right)^{2}} + \\frac{b^{2} c^{2}}{\\left(a^{2} + b^{2}\\right)^{2}}}$"
      ],
      "text/plain": [
       "       _________________________\n",
       "      ╱    2  2         2  2    \n",
       "     ╱    a ⋅c         b ⋅c     \n",
       "    ╱   ────────── + ────────── \n",
       "   ╱             2            2 \n",
       "  ╱     ⎛ 2    2⎞    ⎛ 2    2⎞  \n",
       "╲╱      ⎝a  + b ⎠    ⎝a  + b ⎠  "
      ]
     },
     "metadata": {},
     "output_type": "display_data"
    }
   ],
   "source": [
    "d = sp.sqrt((px[0]**2)+(py**2))\n",
    "display(d)"
   ]
  },
  {
   "cell_type": "code",
   "execution_count": 13,
   "id": "d77cccc6",
   "metadata": {},
   "outputs": [
    {
     "data": {
      "image/png": "[encoded data removed]",
      "text/latex": [
       "$\\displaystyle \\sqrt{\\frac{c^{2}}{a^{2} + b^{2}}}$"
      ],
      "text/plain": [
       "      _________\n",
       "     ╱     2   \n",
       "    ╱     c    \n",
       "   ╱   ─────── \n",
       "  ╱     2    2 \n",
       "╲╱     a  + b  "
      ]
     },
     "metadata": {},
     "output_type": "display_data"
    }
   ],
   "source": [
    "display(sp.simplify(d))"
   ]
  },
  {
   "cell_type": "code",
   "execution_count": null,
   "id": "0899f899",
   "metadata": {},
   "outputs": [],
   "source": []
  }
 ],
 "metadata": {
  "kernelspec": {
   "display_name": "Python 3 (ipykernel)",
   "language": "python",
   "name": "python3"
  },
  "language_info": {
   "codemirror_mode": {
    "name": "ipython",
    "version": 3
   },
   "file_extension": ".py",
   "mimetype": "text/x-python",
   "name": "python",
   "nbconvert_exporter": "python",
   "pygments_lexer": "ipython3",
   "version": "3.9.7"
  }
 },
 "nbformat": 4,
 "nbformat_minor": 5
}
