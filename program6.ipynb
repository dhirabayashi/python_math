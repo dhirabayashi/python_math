{
 "cells": [
  {
   "cell_type": "code",
   "execution_count": 1,
   "id": "057bc195",
   "metadata": {},
   "outputs": [
    {
     "name": "stderr",
     "output_type": "stream",
     "text": [
      "/Users/daiki/opt/anaconda3/lib/python3.9/site-packages/IPython/lib/latextools.py:126: MatplotlibDeprecationWarning: \n",
      "The to_png function was deprecated in Matplotlib 3.4 and will be removed two minor releases later. Use mathtext.math_to_image instead.\n",
      "  mt.to_png(f, s, fontsize=12, dpi=dpi, color=color)\n",
      "/Users/daiki/opt/anaconda3/lib/python3.9/site-packages/IPython/lib/latextools.py:126: MatplotlibDeprecationWarning: \n",
      "The to_rgba function was deprecated in Matplotlib 3.4 and will be removed two minor releases later. Use mathtext.math_to_image instead.\n",
      "  mt.to_png(f, s, fontsize=12, dpi=dpi, color=color)\n",
      "/Users/daiki/opt/anaconda3/lib/python3.9/site-packages/IPython/lib/latextools.py:126: MatplotlibDeprecationWarning: \n",
      "The to_mask function was deprecated in Matplotlib 3.4 and will be removed two minor releases later. Use mathtext.math_to_image instead.\n",
      "  mt.to_png(f, s, fontsize=12, dpi=dpi, color=color)\n",
      "/Users/daiki/opt/anaconda3/lib/python3.9/site-packages/IPython/lib/latextools.py:126: MatplotlibDeprecationWarning: \n",
      "The MathtextBackendBitmap class was deprecated in Matplotlib 3.4 and will be removed two minor releases later. Use mathtext.math_to_image instead.\n",
      "  mt.to_png(f, s, fontsize=12, dpi=dpi, color=color)\n"
     ]
    },
    {
     "data": {
      "image/png": "[encoded data removed]",
      "text/latex": [
       "$\\displaystyle - \\left(2 - y\\right)^{2} - \\left(4 - x\\right)^{2} + \\left(x - 1\\right)^{2} + \\left(y - 6\\right)^{2}$"
      ],
      "text/plain": [
       "         2          2          2          2\n",
       "- (2 - y)  - (4 - x)  + (x - 1)  + (y - 6) "
      ]
     },
     "metadata": {},
     "output_type": "display_data"
    },
    {
     "data": {
      "image/png": "[encoded data removed]",
      "text/latex": [
       "$\\displaystyle 6 x - 8 y + 17$"
      ],
      "text/plain": [
       "6⋅x - 8⋅y + 17"
      ]
     },
     "metadata": {},
     "output_type": "display_data"
    },
    {
     "data": {
      "image/png": "[encoded data removed]",
      "text/latex": [
       "$\\displaystyle \\left[ \\frac{3 x}{4} + \\frac{17}{8}\\right]$"
      ],
      "text/plain": [
       "⎡3⋅x   17⎤\n",
       "⎢─── + ──⎥\n",
       "⎣ 4    8 ⎦"
      ]
     },
     "execution_count": 1,
     "metadata": {},
     "output_type": "execute_result"
    }
   ],
   "source": [
    "import sympy as sp\n",
    "sp.init_printing()\n",
    "\n",
    "x, y = sp.symbols('x, y')\n",
    "\n",
    "x1 = 1; y1 = 6\n",
    "x2 = 4; y2 = 2\n",
    "\n",
    "# AP^2 - BP^2 = 0\n",
    "expr = ((x-x1)**2+(y-y1)**2) - ((x2-x)**2+(y2-y)**2)\n",
    "display(expr)\n",
    "display(sp.simplify(expr))\n",
    "\n",
    "ans = sp.solve(expr, y)\n",
    "ans"
   ]
  },
  {
   "cell_type": "code",
   "execution_count": 2,
   "id": "870060b8",
   "metadata": {},
   "outputs": [
    {
     "data": {
      "image/png": "[encoded data removed]",
      "text/latex": [
       "$\\displaystyle - \\left(- x + x_{2}\\right)^{2} + \\left(x - x_{1}\\right)^{2} - \\left(- y + y_{2}\\right)^{2} + \\left(y - y_{1}\\right)^{2}$"
      ],
      "text/plain": [
       "           2           2            2           2\n",
       "- (-x + x₂)  + (x - x₁)  - (-y + y₂)  + (y - y₁) "
      ]
     },
     "metadata": {},
     "output_type": "display_data"
    },
    {
     "data": {
      "image/png": "[encoded data removed]",
      "text/latex": [
       "$\\displaystyle \\left[ \\frac{y_{1}^{2} - y_{2}^{2} + \\left(x - x_{1}\\right)^{2} - \\left(x - x_{2}\\right)^{2}}{2 \\left(y_{1} - y_{2}\\right)}\\right]$"
      ],
      "text/plain": [
       "⎡  2     2           2           2⎤\n",
       "⎢y₁  - y₂  + (x - x₁)  - (x - x₂) ⎥\n",
       "⎢─────────────────────────────────⎥\n",
       "⎣           2⋅(y₁ - y₂)           ⎦"
      ]
     },
     "metadata": {},
     "output_type": "display_data"
    },
    {
     "data": {
      "image/png": "[encoded data removed]",
      "text/latex": [
       "$\\displaystyle - \\left(2 - y\\right)^{2} - \\left(4 - x\\right)^{2} + \\left(x - 1\\right)^{2} + \\left(y - 6\\right)^{2}$"
      ],
      "text/plain": [
       "         2          2          2          2\n",
       "- (2 - y)  - (4 - x)  + (x - 1)  + (y - 6) "
      ]
     },
     "metadata": {},
     "output_type": "display_data"
    },
    {
     "data": {
      "image/png": "[encoded data removed]",
      "text/latex": [
       "$\\displaystyle \\left[ \\frac{3 x}{4} + \\frac{17}{8}\\right]$"
      ],
      "text/plain": [
       "⎡3⋅x   17⎤\n",
       "⎢─── + ──⎥\n",
       "⎣ 4    8 ⎦"
      ]
     },
     "execution_count": 2,
     "metadata": {},
     "output_type": "execute_result"
    }
   ],
   "source": [
    "x, y = sp.symbols('x, y')\n",
    "x1, y1 = sp.symbols('x1, y1')\n",
    "x2, y2 = sp.symbols('x2, y2')\n",
    "\n",
    "# AP^2 - BP^2 = 0\n",
    "expr = ((x-x1)**2+(y-y1)**2) - ((x2-x)**2+(y2-y)**2)\n",
    "display(expr)\n",
    "\n",
    "ans = sp.solve(expr, y)\n",
    "display(ans)\n",
    "\n",
    "expr = expr.subs({x1:1, y1: 6, x2:4, y2:2})\n",
    "display(expr)\n",
    "\n",
    "ans = sp.solve(expr, y)\n",
    "ans"
   ]
  },
  {
   "cell_type": "code",
   "execution_count": 3,
   "id": "f29f8dc3",
   "metadata": {},
   "outputs": [
    {
     "data": {
      "image/png": "[encoded data removed]",
      "text/plain": [
       "<Figure size 432x288 with 1 Axes>"
      ]
     },
     "metadata": {
      "needs_background": "light"
     },
     "output_type": "display_data"
    }
   ],
   "source": [
    "%matplotlib inline\n",
    "import matplotlib.pyplot as plt\n",
    "import numpy as np\n",
    "\n",
    "def func(x):\n",
    "    return 3/4*x + 17/8\n",
    "\n",
    "x = np.arange(-2, 10)\n",
    "y = func(x)\n",
    "\n",
    "plt.scatter(1, 6)\n",
    "plt.scatter(4, 2)\n",
    "plt.plot(x, y, marker='o')\n",
    "plt.show()"
   ]
  },
  {
   "cell_type": "code",
   "execution_count": 4,
   "id": "d588a47e",
   "metadata": {},
   "outputs": [
    {
     "name": "stderr",
     "output_type": "stream",
     "text": [
      "/Users/daiki/opt/anaconda3/lib/python3.9/site-packages/IPython/lib/latextools.py:126: MatplotlibDeprecationWarning: \n",
      "The to_png function was deprecated in Matplotlib 3.4 and will be removed two minor releases later. Use mathtext.math_to_image instead.\n",
      "  mt.to_png(f, s, fontsize=12, dpi=dpi, color=color)\n",
      "/Users/daiki/opt/anaconda3/lib/python3.9/site-packages/IPython/lib/latextools.py:126: MatplotlibDeprecationWarning: \n",
      "The to_rgba function was deprecated in Matplotlib 3.4 and will be removed two minor releases later. Use mathtext.math_to_image instead.\n",
      "  mt.to_png(f, s, fontsize=12, dpi=dpi, color=color)\n",
      "/Users/daiki/opt/anaconda3/lib/python3.9/site-packages/IPython/lib/latextools.py:126: MatplotlibDeprecationWarning: \n",
      "The to_mask function was deprecated in Matplotlib 3.4 and will be removed two minor releases later. Use mathtext.math_to_image instead.\n",
      "  mt.to_png(f, s, fontsize=12, dpi=dpi, color=color)\n",
      "/Users/daiki/opt/anaconda3/lib/python3.9/site-packages/IPython/lib/latextools.py:126: MatplotlibDeprecationWarning: \n",
      "The MathtextBackendBitmap class was deprecated in Matplotlib 3.4 and will be removed two minor releases later. Use mathtext.math_to_image instead.\n",
      "  mt.to_png(f, s, fontsize=12, dpi=dpi, color=color)\n"
     ]
    },
    {
     "data": {
      "image/png": "[encoded data removed]",
      "text/latex": [
       "$\\displaystyle y = \\frac{2 x}{3} + 1$"
      ],
      "text/plain": [
       "    2⋅x    \n",
       "y = ─── + 1\n",
       "     3     "
      ]
     },
     "metadata": {},
     "output_type": "display_data"
    },
    {
     "data": {
      "image/png": "[encoded data removed]",
      "text/latex": [
       "$\\displaystyle y = \\frac{77}{16} - \\frac{5 x}{8}$"
      ],
      "text/plain": [
       "    77   5⋅x\n",
       "y = ── - ───\n",
       "    16    8 "
      ]
     },
     "metadata": {},
     "output_type": "display_data"
    },
    {
     "data": {
      "image/png": "[encoded data removed]",
      "text/latex": [
       "$\\displaystyle \\left\\{ x : \\frac{183}{62}, \\  y : \\frac{92}{31}\\right\\}$"
      ],
      "text/plain": [
       "⎧   183     92⎫\n",
       "⎨x: ───, y: ──⎬\n",
       "⎩    62     31⎭"
      ]
     },
     "metadata": {},
     "output_type": "display_data"
    },
    {
     "data": {
      "image/png": "[encoded data removed]",
      "text/latex": [
       "$\\displaystyle 5.05806554476619$"
      ],
      "text/plain": [
       "5.058065544766189"
      ]
     },
     "metadata": {},
     "output_type": "display_data"
    },
    {
     "data": {
      "image/png": "[encoded data removed]",
      "text/plain": [
       "<Figure size 432x288 with 1 Axes>"
      ]
     },
     "metadata": {
      "needs_background": "light"
     },
     "output_type": "display_data"
    }
   ],
   "source": [
    "import math\n",
    "\n",
    "x, y = sp.symbols('x, y')\n",
    "\n",
    "# 垂直二等分線の式\n",
    "def perp_bisector(p1, p2):\n",
    "    ex = ((x-p1[0])**2+(y-p1[1])**2) - ((p2[0]-x)**2+(p2[1]-y)**2)\n",
    "    ex = sp.solve(ex, y)\n",
    "    return sp.Eq(y, ex[0])\n",
    "\n",
    "# 2点間の距離\n",
    "def dist_p2p(p1, p2):\n",
    "    return math.sqrt((p2[0]-p1[0])**2 + (p2[1]-p1[1])**2)\n",
    "\n",
    "#-----------\n",
    "\n",
    "# 3点の座標\n",
    "x1 = -2;   y1 = 4    # 点A\n",
    "x2 = 2;    y2 = -2   # 点B\n",
    "x3 = 7;    y3 = 6    # 点C\n",
    "\n",
    "# 線分ABの垂直二等分線の式\n",
    "expr1 = perp_bisector((x1, y1), (x2, y2))\n",
    "display(expr1)\n",
    "\n",
    "# 線分BCの垂直二等分線の式\n",
    "expr2 = perp_bisector((x2, y2), (x3, y3))\n",
    "display(expr2)\n",
    "\n",
    "# 垂直二等分線の交点P\n",
    "p = sp.solve([expr1, expr2])\n",
    "display(p)\n",
    "\n",
    "# 点AとPの距離\n",
    "r = dist_p2p((x1, y1), (p[x], p[y]))\n",
    "display(r)\n",
    "\n",
    "# 点を描画\n",
    "plt.scatter(x1, y1, color='k')\n",
    "plt.scatter(x2, y2, color='k')\n",
    "plt.scatter(x3, y3, color='k')\n",
    "plt.scatter(p[x], p[y], color='k')\n",
    "\n",
    "# 円を描画\n",
    "circle = plt.Circle((p[x], p[y]), r, fill=False, ec='r')\n",
    "ax = plt.gca()\n",
    "ax.add_patch(circle)\n",
    "\n",
    "plt.axis('equal')\n",
    "plt.show()"
   ]
  },
  {
   "cell_type": "code",
   "execution_count": null,
   "id": "be5134c3",
   "metadata": {},
   "outputs": [],
   "source": []
  },
  {
   "cell_type": "code",
   "execution_count": null,
   "id": "b6e5ad3a",
   "metadata": {},
   "outputs": [],
   "source": []
  },
  {
   "cell_type": "code",
   "execution_count": null,
   "id": "05eeed8f",
   "metadata": {},
   "outputs": [],
   "source": []
  }
 ],
 "metadata": {
  "kernelspec": {
   "display_name": "Python 3 (ipykernel)",
   "language": "python",
   "name": "python3"
  },
  "language_info": {
   "codemirror_mode": {
    "name": "ipython",
    "version": 3
   },
   "file_extension": ".py",
   "mimetype": "text/x-python",
   "name": "python",
   "nbconvert_exporter": "python",
   "pygments_lexer": "ipython3",
   "version": "3.9.7"
  }
 },
 "nbformat": 4,
 "nbformat_minor": 5
}
