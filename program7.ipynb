{
 "cells": [
  {
   "cell_type": "code",
   "execution_count": 1,
   "id": "7de5873a",
   "metadata": {},
   "outputs": [
    {
     "data": {
      "image/png": "[encoded data removed]",
      "text/plain": [
       "<Figure size 432x288 with 1 Axes>"
      ]
     },
     "metadata": {
      "needs_background": "light"
     },
     "output_type": "display_data"
    }
   ],
   "source": [
    "%matplotlib inline\n",
    "\n",
    "import matplotlib.pyplot as plt\n",
    "import csv\n",
    "import matplotlib.font_manager as fm\n",
    "\n",
    "f = open('score.csv')\n",
    "\n",
    "dx = []\n",
    "dy = []\n",
    "\n",
    "for row in csv.reader(f):\n",
    "    dx.append(int(row[0]))\n",
    "    dy.append(int(row[1]))\n",
    "\n",
    "f.close()\n",
    "\n",
    "fp = fm.FontProperties(fname='/System/Library/Fonts/Hiragino Sans GB.ttc', size=10)\n",
    "\n",
    "plt.xlabel('気温（℃）', fontproperties=fp)\n",
    "plt.ylabel('販売数（本）', fontproperties=fp)\n",
    "\n",
    "plt.scatter(dx, dy)\n",
    "plt.show()"
   ]
  },
  {
   "cell_type": "code",
   "execution_count": 2,
   "id": "27c35ac1",
   "metadata": {},
   "outputs": [
    {
     "name": "stdout",
     "output_type": "stream",
     "text": [
      "187050.0\n"
     ]
    }
   ],
   "source": [
    "# 初期値\n",
    "a = 0.0    # 直線の傾き\n",
    "b = 0.0    # 切片\n",
    "\n",
    "# 差の二乗和\n",
    "min_res = 0.0\n",
    "for i in range(20):\n",
    "    y = a * dx[i] + b\n",
    "    min_res += (dy[i]-y)**2\n",
    "print(min_res)"
   ]
  },
  {
   "cell_type": "code",
   "execution_count": 3,
   "id": "c3850a0c",
   "metadata": {},
   "outputs": [
    {
     "name": "stdout",
     "output_type": "stream",
     "text": [
      "187050.0\n"
     ]
    }
   ],
   "source": [
    "import numpy as np\n",
    "\n",
    "# データ\n",
    "# 気温\n",
    "dx = np.array([28, 26, 28, 27, 27, 20, 26, 22, 23, 19, 26, 23, 25, 21, 20, 18, 24, 19, 24, 25])\n",
    "# 販売数\n",
    "dy = np.array([111, 97, 102, 105, 108, 74, 116, 92, 112, 88, 116, 101, 93, 74, 87, 71, 94, 67, 105, 99])\n",
    "\n",
    "# 初期値\n",
    "a = 0.0    # 直線の傾き\n",
    "b = 0.0    # 切片\n",
    "\n",
    "# 差の二乗和\n",
    "y = a * dx + b\n",
    "min_res = np.sum((dy-y)**2)\n",
    "print(min_res)"
   ]
  },
  {
   "cell_type": "code",
   "execution_count": 4,
   "id": "df46462a",
   "metadata": {},
   "outputs": [
    {
     "name": "stdout",
     "output_type": "stream",
     "text": [
      "3.821715761954837 5.598592286590522 1444.667012179384\n"
     ]
    }
   ],
   "source": [
    "import random\n",
    "\n",
    "for i in range(100000):\n",
    "    # 傾きと切片の更新量を決定\n",
    "    if i < 10000:\n",
    "        wa = (random.random() - 0.5) * 0.5\n",
    "        wb = (random.random() - 0.5) * 0.5\n",
    "    elif i < 30000:\n",
    "        wa = (random.random() - 0.5) * 0.01\n",
    "        wb = (random.random() - 0.5) * 0.01\n",
    "    else:\n",
    "        wa = (random.random() - 0.5) * 0.001\n",
    "        wb = (random.random() - 0.5) * 0.001\n",
    "        \n",
    "    # 差の二乗和\n",
    "    res = 0\n",
    "    for j in range(20):\n",
    "        y = (a + wa) * dx[j] + (b + wb)\n",
    "        res += (dy[j] - y) ** 2\n",
    "        \n",
    "    # 値の更新\n",
    "    if res < min_res:\n",
    "        min_res = res\n",
    "        a = a + wa\n",
    "        b = b + wb\n",
    "            \n",
    "print(a, b, min_res)"
   ]
  },
  {
   "cell_type": "code",
   "execution_count": 5,
   "id": "df8bd956",
   "metadata": {},
   "outputs": [
    {
     "data": {
      "image/png": "[encoded data removed]",
      "text/plain": [
       "<Figure size 432x288 with 1 Axes>"
      ]
     },
     "metadata": {
      "needs_background": "light"
     },
     "output_type": "display_data"
    }
   ],
   "source": [
    "# 回帰直線\n",
    "def func(x):\n",
    "    return a * x + b\n",
    "\n",
    "# 直線用のデータ\n",
    "x = np.arange(18, 30)\n",
    "y = func(x)\n",
    "\n",
    "# 表示\n",
    "plt.scatter(dx, dy)\n",
    "plt.plot(x, y)\n",
    "plt.xlabel('気温（℃）', fontproperties=fp)\n",
    "plt.ylabel('販売数（本）', fontproperties=fp)\n",
    "plt.show()"
   ]
  },
  {
   "cell_type": "code",
   "execution_count": 6,
   "id": "7d0a528e",
   "metadata": {},
   "outputs": [
    {
     "data": {
      "text/plain": [
       "139.35864395500982"
      ]
     },
     "execution_count": 6,
     "metadata": {},
     "output_type": "execute_result"
    }
   ],
   "source": [
    "y = func(35)\n",
    "y"
   ]
  },
  {
   "cell_type": "code",
   "execution_count": 7,
   "id": "27178d4e",
   "metadata": {},
   "outputs": [
    {
     "name": "stderr",
     "output_type": "stream",
     "text": [
      "/Users/daiki/opt/anaconda3/lib/python3.9/site-packages/IPython/lib/latextools.py:126: MatplotlibDeprecationWarning: \n",
      "The to_png function was deprecated in Matplotlib 3.4 and will be removed two minor releases later. Use mathtext.math_to_image instead.\n",
      "  mt.to_png(f, s, fontsize=12, dpi=dpi, color=color)\n",
      "/Users/daiki/opt/anaconda3/lib/python3.9/site-packages/IPython/lib/latextools.py:126: MatplotlibDeprecationWarning: \n",
      "The to_rgba function was deprecated in Matplotlib 3.4 and will be removed two minor releases later. Use mathtext.math_to_image instead.\n",
      "  mt.to_png(f, s, fontsize=12, dpi=dpi, color=color)\n",
      "/Users/daiki/opt/anaconda3/lib/python3.9/site-packages/IPython/lib/latextools.py:126: MatplotlibDeprecationWarning: \n",
      "The to_mask function was deprecated in Matplotlib 3.4 and will be removed two minor releases later. Use mathtext.math_to_image instead.\n",
      "  mt.to_png(f, s, fontsize=12, dpi=dpi, color=color)\n",
      "/Users/daiki/opt/anaconda3/lib/python3.9/site-packages/IPython/lib/latextools.py:126: MatplotlibDeprecationWarning: \n",
      "The MathtextBackendBitmap class was deprecated in Matplotlib 3.4 and will be removed two minor releases later. Use mathtext.math_to_image instead.\n",
      "  mt.to_png(f, s, fontsize=12, dpi=dpi, color=color)\n"
     ]
    },
    {
     "data": {
      "image/png": "[encoded data removed]",
      "text/latex": [
       "$\\displaystyle 4.0 x - 1.0$"
      ],
      "text/plain": [
       "4.0⋅x - 1.0"
      ]
     },
     "execution_count": 7,
     "metadata": {},
     "output_type": "execute_result"
    }
   ],
   "source": [
    "import sympy as sp\n",
    "sp.init_printing()\n",
    "\n",
    "x, y = sp.symbols('x, y')\n",
    "x1 = 28;  y1 = 111\n",
    "x2 = 25;  y2 = 99\n",
    "y = ((y2-y1)/(x2-x1))*(x-x1)+y1\n",
    "y"
   ]
  },
  {
   "cell_type": "code",
   "execution_count": 9,
   "id": "7baaa460",
   "metadata": {},
   "outputs": [
    {
     "name": "stdout",
     "output_type": "stream",
     "text": [
      " ずれの初期値: 1566.0\n",
      "a: 3.821715416377625, b: 5.5986022614096775, min_res: 1444.6670121793238\n"
     ]
    }
   ],
   "source": [
    "# データ\n",
    "# 気温\n",
    "dx = np.array([28, 26, 28, 27, 27, 20, 26, 22, 23, 19, 26, 23, 25, 21, 20, 18, 24, 19, 24, 25])\n",
    "# 販売数\n",
    "dy = np.array([111, 97, 102, 105, 108, 74, 116, 92, 112, 88, 116, 101, 93, 74, 87, 71, 94, 67, 105, 99])\n",
    "\n",
    "# 初期値\n",
    "a = 4.0    # 直線の傾き\n",
    "b = -1.0    # 切片\n",
    "\n",
    "# 最初の直線とのずれ\n",
    "min_res = 0.0\n",
    "for i in range(20):\n",
    "    y = a * dx[i] + b\n",
    "    min_res += (dy[i]-y)**2\n",
    "print(' ずれの初期値: {0}'.format(min_res))\n",
    "\n",
    "for i in range(200000):\n",
    "    # 傾きと切片の更新量を決定\n",
    "    wa = (random.random() - 0.5) * 0.001\n",
    "    wb = (random.random() - 0.5) * 0.001\n",
    "        \n",
    "    # 差の二乗和\n",
    "    res = 0\n",
    "    for j in range(20):\n",
    "        y = (a + wa) * dx[j] + (b + wb)\n",
    "        res += (dy[j] - y) ** 2\n",
    "        \n",
    "    # 値の更新\n",
    "    if res < min_res:\n",
    "        min_res = res\n",
    "        a = a + wa\n",
    "        b = b + wb\n",
    "            \n",
    "print('a: {0}, b: {1}, min_res: {2}'.format(a, b, min_res))"
   ]
  },
  {
   "cell_type": "code",
   "execution_count": 10,
   "id": "caf3f3e2",
   "metadata": {},
   "outputs": [
    {
     "name": "stdout",
     "output_type": "stream",
     "text": [
      "a: 3.821715470329103, b: 5.598600673749644\n"
     ]
    }
   ],
   "source": [
    "import numpy as np\n",
    "\n",
    "# データ\n",
    "# 気温\n",
    "dx = np.array([28, 26, 28, 27, 27, 20, 26, 22, 23, 19, 26, 23, 25, 21, 20, 18, 24, 19, 24, 25])\n",
    "# 販売数\n",
    "dy = np.array([111, 97, 102, 105, 108, 74, 116, 92, 112, 88, 116, 101, 93, 74, 87, 71, 94, 67, 105, 99])\n",
    "\n",
    "# 回帰直線を求める\n",
    "a, b = np.polyfit(dx, dy, 1)\n",
    "print('a: {0}, b: {1}'.format(a, b))"
   ]
  },
  {
   "cell_type": "code",
   "execution_count": null,
   "id": "83ebf926",
   "metadata": {},
   "outputs": [],
   "source": []
  }
 ],
 "metadata": {
  "kernelspec": {
   "display_name": "Python 3 (ipykernel)",
   "language": "python",
   "name": "python3"
  },
  "language_info": {
   "codemirror_mode": {
    "name": "ipython",
    "version": 3
   },
   "file_extension": ".py",
   "mimetype": "text/x-python",
   "name": "python",
   "nbconvert_exporter": "python",
   "pygments_lexer": "ipython3",
   "version": "3.9.7"
  }
 },
 "nbformat": 4,
 "nbformat_minor": 5
}
