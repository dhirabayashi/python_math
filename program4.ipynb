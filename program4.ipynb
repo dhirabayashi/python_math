{
 "cells": [
  {
   "cell_type": "code",
   "execution_count": 1,
   "id": "321304dc",
   "metadata": {},
   "outputs": [
    {
     "data": {
      "text/latex": [
       "$\\displaystyle \\left(a_{1} - a_{2}\\right)^{2} = a_{1}^{2} + a_{2}^{2} + 2$"
      ],
      "text/plain": [
       "Eq((a1 - a2)**2, a1**2 + a2**2 + 2)"
      ]
     },
     "execution_count": 1,
     "metadata": {},
     "output_type": "execute_result"
    }
   ],
   "source": [
    "import sympy as sp\n",
    "\n",
    "a1 = sp.Symbol('a1')\n",
    "a2 = sp.Symbol('a2')\n",
    "\n",
    "expr = sp.Eq((a1-a2)**2, (1**2 + a1**2) + (1**2 + a2**2))\n",
    "expr"
   ]
  },
  {
   "cell_type": "code",
   "execution_count": 2,
   "id": "a08d2d05",
   "metadata": {},
   "outputs": [
    {
     "data": {
      "text/latex": [
       "$\\displaystyle a_{1}^{2} - 2 a_{1} a_{2} + a_{2}^{2} = a_{1}^{2} + a_{2}^{2} + 2$"
      ],
      "text/plain": [
       "Eq(a1**2 - 2*a1*a2 + a2**2, a1**2 + a2**2 + 2)"
      ]
     },
     "execution_count": 2,
     "metadata": {},
     "output_type": "execute_result"
    }
   ],
   "source": [
    "sp.expand(expr)"
   ]
  },
  {
   "cell_type": "code",
   "execution_count": 3,
   "id": "145bccfe",
   "metadata": {},
   "outputs": [
    {
     "data": {
      "text/plain": [
       "[{a1: -1/a2}]"
      ]
     },
     "execution_count": 3,
     "metadata": {},
     "output_type": "execute_result"
    }
   ],
   "source": [
    "sp.solve(expr)"
   ]
  },
  {
   "cell_type": "code",
   "execution_count": 4,
   "id": "3e496fdc",
   "metadata": {},
   "outputs": [
    {
     "data": {
      "text/plain": [
       "[-1/a2]"
      ]
     },
     "execution_count": 4,
     "metadata": {},
     "output_type": "execute_result"
    }
   ],
   "source": [
    "sp.solve(expr, a1)"
   ]
  },
  {
   "cell_type": "code",
   "execution_count": 5,
   "id": "37e7362f",
   "metadata": {},
   "outputs": [
    {
     "data": {
      "text/latex": [
       "$\\displaystyle a_{1}^{2} + a_{2}^{2} - \\left(a_{1} - a_{2}\\right)^{2} + 2$"
      ],
      "text/plain": [
       "a1**2 + a2**2 - (a1 - a2)**2 + 2"
      ]
     },
     "execution_count": 5,
     "metadata": {},
     "output_type": "execute_result"
    }
   ],
   "source": [
    "expr2 = (1**2 + a1**2) + (1**2 + a2**2) - (a1-a2)**2\n",
    "expr2"
   ]
  },
  {
   "cell_type": "code",
   "execution_count": 6,
   "id": "b034f624",
   "metadata": {},
   "outputs": [
    {
     "data": {
      "text/latex": [
       "$\\displaystyle 2 a_{1} a_{2} + 2$"
      ],
      "text/plain": [
       "2*a1*a2 + 2"
      ]
     },
     "execution_count": 6,
     "metadata": {},
     "output_type": "execute_result"
    }
   ],
   "source": [
    "sp.simplify(expr2)"
   ]
  },
  {
   "cell_type": "code",
   "execution_count": 7,
   "id": "8351b6bc",
   "metadata": {},
   "outputs": [
    {
     "data": {
      "text/latex": [
       "$\\displaystyle \\left(a_{1} - a_{2}\\right)^{2} = a_{1}^{2} + a_{2}^{2} + 2$"
      ],
      "text/plain": [
       "Eq((a1 - a2)**2, a1**2 + a2**2 + 2)"
      ]
     },
     "execution_count": 7,
     "metadata": {},
     "output_type": "execute_result"
    }
   ],
   "source": [
    "sp.simplify(expr)"
   ]
  },
  {
   "cell_type": "code",
   "execution_count": 8,
   "id": "834d4570",
   "metadata": {},
   "outputs": [
    {
     "data": {
      "image/png": "[encoded data removed]",
      "text/plain": [
       "<Figure size 432x288 with 1 Axes>"
      ]
     },
     "metadata": {
      "needs_background": "light"
     },
     "output_type": "display_data"
    }
   ],
   "source": [
    "%matplotlib inline\n",
    "import matplotlib.pyplot as plt\n",
    "import numpy as np\n",
    "\n",
    "def func1(x):\n",
    "    return 3/2*x-1\n",
    "\n",
    "def func2(x):\n",
    "    return -2/3*x+5\n",
    "\n",
    "x = np.arange(-2, 9)\n",
    "\n",
    "y1 = func1(x)\n",
    "plt.plot(x, y1)\n",
    "\n",
    "y2 = func2(x)\n",
    "plt.plot(x, y2)\n",
    "\n",
    "plt.axis('equal')\n",
    "plt.show()"
   ]
  },
  {
   "cell_type": "code",
   "execution_count": 9,
   "id": "3a7544d4",
   "metadata": {},
   "outputs": [
    {
     "data": {
      "text/latex": [
       "$\\displaystyle n \\left(x - x_{1}\\right) = m \\left(- x + x_{2}\\right)$"
      ],
      "text/plain": [
       "Eq(n*(x - x1), m*(-x + x2))"
      ]
     },
     "metadata": {},
     "output_type": "display_data"
    },
    {
     "data": {
      "text/latex": [
       "$\\displaystyle \\frac{m x_{2} + n x_{1}}{m + n}$"
      ],
      "text/plain": [
       "(m*x2 + n*x1)/(m + n)"
      ]
     },
     "metadata": {},
     "output_type": "display_data"
    }
   ],
   "source": [
    "x = sp.Symbol('x')\n",
    "x1, x2 = sp.symbols('x1, x2')\n",
    "m, n = sp.symbols('m, n')\n",
    "\n",
    "expr = sp.Eq(n*(x-x1), m*(x2-x))\n",
    "display(expr)\n",
    "display(sp.solve(expr, x)[0])"
   ]
  },
  {
   "cell_type": "code",
   "execution_count": 10,
   "id": "38dff39e",
   "metadata": {},
   "outputs": [
    {
     "data": {
      "image/png": "[encoded data removed]",
      "text/plain": [
       "<Figure size 432x288 with 1 Axes>"
      ]
     },
     "metadata": {
      "needs_background": "light"
     },
     "output_type": "display_data"
    }
   ],
   "source": [
    "plt.plot([-2, 6], [1, 5])\n",
    "plt.scatter(2, 3)\n",
    "\n",
    "def func(x):\n",
    "    return -2*x+7\n",
    "x = np.arange(0, 5)\n",
    "y = func(x)\n",
    "plt.plot(x, y)\n",
    "\n",
    "plt.axis('equal')\n",
    "plt.grid(color='0.8')\n",
    "plt.show()"
   ]
  },
  {
   "cell_type": "code",
   "execution_count": 11,
   "id": "30ed42e5",
   "metadata": {},
   "outputs": [
    {
     "data": {
      "image/png": "[encoded data removed]",
      "text/plain": [
       "<Figure size 432x288 with 1 Axes>"
      ]
     },
     "metadata": {
      "needs_background": "light"
     },
     "output_type": "display_data"
    }
   ],
   "source": [
    "# 円\n",
    "th = np.arange(0, 360)\n",
    "x = np.cos(np.radians(th))\n",
    "y = np.sin(np.radians(th))\n",
    "plt.plot(x, y)\n",
    "\n",
    "#接点\n",
    "th = 315\n",
    "x1 = np.cos(np.radians(th))\n",
    "y1 = np.sin(np.radians(th))\n",
    "plt.scatter(x1, y1)\n",
    "\n",
    "# 円の中心と接点を結ぶ線分\n",
    "plt.plot([0, x1], [0, y1])\n",
    "a1 = y1 / x1\n",
    "\n",
    "# 接線\n",
    "a2 = -1 / a1\n",
    "def func(x):\n",
    "    return a2 * (x-x1)+ y1\n",
    "x = np.arange(-1.5, 2)\n",
    "y = func(x)\n",
    "plt.plot(x, y)\n",
    "\n",
    "plt.axis('equal')\n",
    "plt.show()"
   ]
  },
  {
   "cell_type": "code",
   "execution_count": 13,
   "id": "f51d8c2f",
   "metadata": {},
   "outputs": [
    {
     "data": {
      "image/png": "[encoded data removed]",
      "text/plain": [
       "<Figure size 432x288 with 1 Axes>"
      ]
     },
     "metadata": {
      "needs_background": "light"
     },
     "output_type": "display_data"
    }
   ],
   "source": [
    "th = np.arange(0, 360)\n",
    "x = np.cos(np.radians(th))\n",
    "y = np.sin(np.radians(th))\n",
    "plt.plot(x, y)\n",
    "plt.axis('equal')\n",
    "plt.show()"
   ]
  },
  {
   "cell_type": "code",
   "execution_count": null,
   "id": "bb1d4e8a",
   "metadata": {},
   "outputs": [],
   "source": []
  }
 ],
 "metadata": {
  "kernelspec": {
   "display_name": "Python 3 (ipykernel)",
   "language": "python",
   "name": "python3"
  },
  "language_info": {
   "codemirror_mode": {
    "name": "ipython",
    "version": 3
   },
   "file_extension": ".py",
   "mimetype": "text/x-python",
   "name": "python",
   "nbconvert_exporter": "python",
   "pygments_lexer": "ipython3",
   "version": "3.9.7"
  }
 },
 "nbformat": 4,
 "nbformat_minor": 5
}
